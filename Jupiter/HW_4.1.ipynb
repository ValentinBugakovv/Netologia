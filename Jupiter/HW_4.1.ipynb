{
 "cells": [
  {
   "cell_type": "code",
   "execution_count": 1,
   "metadata": {
    "collapsed": true
   },
   "outputs": [],
   "source": [
    "import pandas as pd"
   ]
  },
  {
   "cell_type": "code",
   "execution_count": 2,
   "metadata": {
    "collapsed": true
   },
   "outputs": [],
   "source": [
    "def count_top_3(years):\n",
    "    names_merged = []\n",
    "    for year in years:\n",
    "        names = pd.read_csv(f\"yob{year}.txt\", names=['Name','Gender','Count'])\n",
    "        names_merged.append(names)\n",
    "    names_merged = pd.concat(names_merged)\n",
    "    return names_merged.groupby(['Name','Gender'], as_index=False).sum().sort_values(by='Count', ascending=False).head(3)[\"Name\"].tolist()\n"
   ]
  },
  {
   "cell_type": "code",
   "execution_count": 3,
   "metadata": {},
   "outputs": [
    {
     "data": {
      "text/plain": [
       "['James', 'John', 'Robert']"
      ]
     },
     "execution_count": 3,
     "metadata": {},
     "output_type": "execute_result"
    }
   ],
   "source": [
    "count_top_3([1900, 1950, 2000])"
   ]
  },
  {
   "cell_type": "code",
   "execution_count": 4,
   "metadata": {
    "collapsed": true
   },
   "outputs": [],
   "source": [
    "def count_dynamics(years):\n",
    "    result = {\"F\":[], \"M\":[]}\n",
    "    for year in years:\n",
    "        names = pd.read_csv(f\"yob{year}.txt\", names=['Name','Gender','Count'])\n",
    "        names_grouped = names.groupby([\"Gender\"], as_index=False).sum()[[\"Gender\", \"Count\"]]\n",
    "        for gender in result.keys():\n",
    "            result[gender].extend(names_grouped[names_grouped.Gender==gender][\"Count\"].tolist())\n",
    "    return result"
   ]
  },
  {
   "cell_type": "code",
   "execution_count": 5,
   "metadata": {},
   "outputs": [
    {
     "data": {
      "text/plain": [
       "{'F': [299810, 1713259, 1814922], 'M': [150486, 1790871, 1962744]}"
      ]
     },
     "execution_count": 5,
     "metadata": {},
     "output_type": "execute_result"
    }
   ],
   "source": [
    "count_dynamics([1900, 1950, 2000])"
   ]
  }
 ],
 "metadata": {
  "kernelspec": {
   "display_name": "Python 3",
   "language": "python",
   "name": "python3"
  },
  "language_info": {
   "codemirror_mode": {
    "name": "ipython",
    "version": 3
   },
   "file_extension": ".py",
   "mimetype": "text/x-python",
   "name": "python",
   "nbconvert_exporter": "python",
   "pygments_lexer": "ipython3",
   "version": "3.6.3"
  }
 },
 "nbformat": 4,
 "nbformat_minor": 2
}
